{
 "cells": [
  {
   "cell_type": "code",
   "execution_count": 20,
   "metadata": {},
   "outputs": [
    {
     "data": {
      "text/plain": [
       "b'{\"prediction\":172.35610493672993}'"
      ]
     },
     "execution_count": 20,
     "metadata": {},
     "output_type": "execute_result"
    }
   ],
   "source": [
    "import requests\n",
    "\n",
    "# test predic endpoint \n",
    "data = {'model_key': 'Citroën',\n",
    "            'mileage': 140589,\n",
    "            'engine_power': 250,\n",
    "            'fuel': 'diesel',\n",
    "            'paint_color': 'white',\n",
    "            'car_type': 'convertible',\n",
    "            'private_parking_available': True,\n",
    "            'has_gps': False,\n",
    "            'has_air_conditioning': True,\n",
    "            'automatic_car': False,\n",
    "            'has_getaround_connect': False,\n",
    "            'has_speed_regulator': True,\n",
    "            'winter_tires': False\n",
    "        }\n",
    "r = requests.post('https://getaround-api.herokuapp.com/predict',json=data)\n",
    "\n",
    "r.content\n"
   ]
  },
  {
   "cell_type": "code",
   "execution_count": 21,
   "metadata": {},
   "outputs": [
    {
     "data": {
      "text/plain": [
       "b'{\"prediction\":[226.05385869685847,102.52115484948914,100.72508737138767,127.52982614852237,132.22490654990676,129.19629009879017,138.85217113442116,87.766666138684,144.676852009102,112.9457654826825,128.83856036680243,224.5037123015874,127.79911356560744,115.00309873908755,141.87542965367965,107.74517573635917,107.76672996564145,154.3039194718117,192.54626497113998,148.34297702177048]}'"
      ]
     },
     "execution_count": 21,
     "metadata": {},
     "output_type": "execute_result"
    }
   ],
   "source": [
    "# # test batch-predict endpoint \n",
    "import pandas as pd\n",
    "import csv\n",
    "import urllib3\n",
    "\n",
    "\n",
    "df = pd.read_excel('test_batch_predict_file.xlsx').iloc[:,1:]\n",
    "myfile = df.to_csv()\n",
    "r = requests.post('https://getaround-api.herokuapp.com/batch-predict',\n",
    "                   files={'file':myfile} )\n",
    "r.content\n"
   ]
  },
  {
   "cell_type": "code",
   "execution_count": 16,
   "metadata": {},
   "outputs": [
    {
     "data": {
      "text/plain": [
       "b'\"{\\\\\"model_key\\\\\":{\\\\\"3544\\\\\":\\\\\"Renault\\\\\",\\\\\"230\\\\\":\\\\\"Peugeot\\\\\",\\\\\"1261\\\\\":\\\\\"Citro\\\\\\\\u00ebn\\\\\",\\\\\"854\\\\\":\\\\\"Citro\\\\\\\\u00ebn\\\\\",\\\\\"994\\\\\":\\\\\"Renault\\\\\"},\\\\\"mileage\\\\\":{\\\\\"3544\\\\\":134767,\\\\\"230\\\\\":168068,\\\\\"1261\\\\\":148475,\\\\\"854\\\\\":38620,\\\\\"994\\\\\":92554},\\\\\"engine_power\\\\\":{\\\\\"3544\\\\\":120,\\\\\"230\\\\\":100,\\\\\"1261\\\\\":120,\\\\\"854\\\\\":135,\\\\\"994\\\\\":135},\\\\\"fuel\\\\\":{\\\\\"3544\\\\\":\\\\\"diesel\\\\\",\\\\\"230\\\\\":\\\\\"diesel\\\\\",\\\\\"1261\\\\\":\\\\\"diesel\\\\\",\\\\\"854\\\\\":\\\\\"diesel\\\\\",\\\\\"994\\\\\":\\\\\"diesel\\\\\"},\\\\\"paint_color\\\\\":{\\\\\"3544\\\\\":\\\\\"grey\\\\\",\\\\\"230\\\\\":\\\\\"grey\\\\\",\\\\\"1261\\\\\":\\\\\"brown\\\\\",\\\\\"854\\\\\":\\\\\"grey\\\\\",\\\\\"994\\\\\":\\\\\"black\\\\\"},\\\\\"car_type\\\\\":{\\\\\"3544\\\\\":\\\\\"sedan\\\\\",\\\\\"230\\\\\":\\\\\"estate\\\\\",\\\\\"1261\\\\\":\\\\\"estate\\\\\",\\\\\"854\\\\\":\\\\\"estate\\\\\",\\\\\"994\\\\\":\\\\\"estate\\\\\"},\\\\\"private_parking_available\\\\\":{\\\\\"3544\\\\\":true,\\\\\"230\\\\\":false,\\\\\"1261\\\\\":false,\\\\\"854\\\\\":false,\\\\\"994\\\\\":true},\\\\\"has_gps\\\\\":{\\\\\"3544\\\\\":true,\\\\\"230\\\\\":true,\\\\\"1261\\\\\":false,\\\\\"854\\\\\":true,\\\\\"994\\\\\":true},\\\\\"has_air_conditioning\\\\\":{\\\\\"3544\\\\\":false,\\\\\"230\\\\\":false,\\\\\"1261\\\\\":false,\\\\\"854\\\\\":false,\\\\\"994\\\\\":false},\\\\\"automatic_car\\\\\":{\\\\\"3544\\\\\":false,\\\\\"230\\\\\":false,\\\\\"1261\\\\\":false,\\\\\"854\\\\\":true,\\\\\"994\\\\\":true},\\\\\"has_getaround_connect\\\\\":{\\\\\"3544\\\\\":true,\\\\\"230\\\\\":false,\\\\\"1261\\\\\":false,\\\\\"854\\\\\":false,\\\\\"994\\\\\":true},\\\\\"has_speed_regulator\\\\\":{\\\\\"3544\\\\\":true,\\\\\"230\\\\\":false,\\\\\"1261\\\\\":false,\\\\\"854\\\\\":false,\\\\\"994\\\\\":false},\\\\\"winter_tires\\\\\":{\\\\\"3544\\\\\":true,\\\\\"230\\\\\":true,\\\\\"1261\\\\\":false,\\\\\"854\\\\\":true,\\\\\"994\\\\\":true},\\\\\"rental_price_per_day\\\\\":{\\\\\"3544\\\\\":131,\\\\\"230\\\\\":89,\\\\\"1261\\\\\":103,\\\\\"854\\\\\":140,\\\\\"994\\\\\":162}}\"'"
      ]
     },
     "execution_count": 16,
     "metadata": {},
     "output_type": "execute_result"
    }
   ],
   "source": [
    "# test preview endpoint\n",
    "r = requests.get('https://getaround-api.herokuapp.com/preview',params={'row':20})\n",
    "r.content"
   ]
  },
  {
   "cell_type": "code",
   "execution_count": 17,
   "metadata": {},
   "outputs": [
    {
     "data": {
      "text/plain": [
       "b'\"{\\\\\"0\\\\\":\\\\\"Citro\\\\\\\\u00ebn\\\\\",\\\\\"1\\\\\":\\\\\"Peugeot\\\\\",\\\\\"2\\\\\":\\\\\"PGO\\\\\",\\\\\"3\\\\\":\\\\\"Renault\\\\\",\\\\\"4\\\\\":\\\\\"Audi\\\\\",\\\\\"5\\\\\":\\\\\"BMW\\\\\",\\\\\"6\\\\\":\\\\\"Ford\\\\\",\\\\\"7\\\\\":\\\\\"Mercedes\\\\\",\\\\\"8\\\\\":\\\\\"Opel\\\\\",\\\\\"9\\\\\":\\\\\"Porsche\\\\\",\\\\\"10\\\\\":\\\\\"Volkswagen\\\\\",\\\\\"11\\\\\":\\\\\"KIA Motors\\\\\",\\\\\"12\\\\\":\\\\\"Alfa Romeo\\\\\",\\\\\"13\\\\\":\\\\\"Ferrari\\\\\",\\\\\"14\\\\\":\\\\\"Fiat\\\\\",\\\\\"15\\\\\":\\\\\"Lamborghini\\\\\",\\\\\"16\\\\\":\\\\\"Maserati\\\\\",\\\\\"17\\\\\":\\\\\"Lexus\\\\\",\\\\\"18\\\\\":\\\\\"Honda\\\\\",\\\\\"19\\\\\":\\\\\"Mazda\\\\\",\\\\\"20\\\\\":\\\\\"Mini\\\\\",\\\\\"21\\\\\":\\\\\"Mitsubishi\\\\\",\\\\\"22\\\\\":\\\\\"Nissan\\\\\",\\\\\"23\\\\\":\\\\\"SEAT\\\\\",\\\\\"24\\\\\":\\\\\"Subaru\\\\\",\\\\\"25\\\\\":\\\\\"Suzuki\\\\\",\\\\\"26\\\\\":\\\\\"Toyota\\\\\",\\\\\"27\\\\\":\\\\\"Yamaha\\\\\"}\"'"
      ]
     },
     "execution_count": 17,
     "metadata": {},
     "output_type": "execute_result"
    }
   ],
   "source": [
    "# test unique-values endpoint\n",
    "r = requests.get('https://getaround-api.herokuapp.com/unique-values',params={'column':'model_key'})\n",
    "r.content"
   ]
  },
  {
   "cell_type": "code",
   "execution_count": 18,
   "metadata": {},
   "outputs": [
    {
     "data": {
      "text/plain": [
       "b'\"GetAround is the Airbnb for cars.You can rent cars from any person for a few hours to a few days! Founded in 2009, this company has known rapid growth. In 2019, they count over 5 million users and about 20K available cars worldwide.\"'"
      ]
     },
     "execution_count": 18,
     "metadata": {},
     "output_type": "execute_result"
    }
   ],
   "source": [
    "# test intro endpoint\n",
    "r = requests.get('https://getaround-api.herokuapp.com/intro')\n",
    "r.content"
   ]
  },
  {
   "cell_type": "code",
   "execution_count": null,
   "metadata": {},
   "outputs": [],
   "source": []
  }
 ],
 "metadata": {
  "kernelspec": {
   "display_name": "Python 3.10.5 64-bit (windows store)",
   "language": "python",
   "name": "python3"
  },
  "language_info": {
   "codemirror_mode": {
    "name": "ipython",
    "version": 3
   },
   "file_extension": ".py",
   "mimetype": "text/x-python",
   "name": "python",
   "nbconvert_exporter": "python",
   "pygments_lexer": "ipython3",
   "version": "3.10.5"
  },
  "orig_nbformat": 4,
  "vscode": {
   "interpreter": {
    "hash": "7e09721073e436e35d84ed4cdbbeb045311bd476b44317739da864ee086bb1be"
   }
  }
 },
 "nbformat": 4,
 "nbformat_minor": 2
}
